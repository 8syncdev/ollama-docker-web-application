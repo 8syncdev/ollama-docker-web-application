{
 "cells": [
  {
   "cell_type": "code",
   "execution_count": 1,
   "metadata": {},
   "outputs": [],
   "source": [
    "# LangChain components\n",
    "from langchain_ollama import OllamaLLM  # Tích hợp mô hình Ollama\n",
    "from langchain.chains.sql_database.query import create_sql_query_chain  # Tạo chuỗi truy vấn SQL\n",
    "from langchain.prompts import PromptTemplate  # Template cho prompt\n",
    "from langchain_community.tools import QuerySQLDataBaseTool  # Tool truy vấn DB\n",
    "from langchain.sql_database import SQLDatabase  # Wrapper cho DB\n",
    "from langchain_core.output_parsers import StrOutputParser  # Parser output\n",
    "from langchain_core.runnables import RunnablePassthrough  # Pipeline processing\n",
    "\n",
    "# SQLModel for ORM\n",
    "from sqlmodel import Field, SQLModel, create_engine, Session, select\n",
    "\n",
    "# Caching\n",
    "from langchain.cache import InMemoryCache\n",
    "from langchain.globals import set_llm_cache\n"
   ]
  },
  {
   "cell_type": "code",
   "execution_count": 2,
   "metadata": {},
   "outputs": [
    {
     "name": "stdout",
     "output_type": "stream",
     "text": [
      "NAME                  ID              SIZE      MODIFIED    \n",
      "qwen2.5-coder:1.5b    6d3abb8d2d53    986 MB    3 weeks ago    \n",
      "llama3.2:3b           a80c4f17acd5    2.0 GB    5 weeks ago    \n"
     ]
    }
   ],
   "source": [
    "!ollama list"
   ]
  },
  {
   "cell_type": "code",
   "execution_count": 3,
   "metadata": {},
   "outputs": [],
   "source": [
    "llm = OllamaLLM(\n",
    "    model=\"llama3.2:3b\"\n",
    ")"
   ]
  },
  {
   "cell_type": "code",
   "execution_count": 4,
   "metadata": {},
   "outputs": [],
   "source": [
    "\n",
    "class Blog(SQLModel, table=True):\n",
    "    id: int = Field(primary_key=True, index=True)\n",
    "    title: str\n",
    "    content: str\n",
    "\n",
    "file_path = \"./db.sqlite3\"\n",
    "engine = create_engine(f\"sqlite:///{file_path}\")\n",
    "\n",
    "def create_all_tables():\n",
    "    SQLModel.metadata.create_all(engine)"
   ]
  },
  {
   "cell_type": "code",
   "execution_count": 5,
   "metadata": {},
   "outputs": [],
   "source": [
    "create_all_tables()"
   ]
  },
  {
   "cell_type": "code",
   "execution_count": 6,
   "metadata": {},
   "outputs": [],
   "source": [
    "db = SQLDatabase(engine=engine)"
   ]
  },
  {
   "cell_type": "code",
   "execution_count": 7,
   "metadata": {},
   "outputs": [
    {
     "name": "stdout",
     "output_type": "stream",
     "text": [
      "\n",
      "CREATE TABLE blog (\n",
      "\tid INTEGER NOT NULL, \n",
      "\ttitle VARCHAR NOT NULL, \n",
      "\tcontent VARCHAR NOT NULL, \n",
      "\tPRIMARY KEY (id)\n",
      ")\n",
      "\n",
      "/*\n",
      "3 rows from blog table:\n",
      "id\ttitle\tcontent\n",
      "1\tNew Post\tThis is a new post.\n",
      "2\tTên của bài viết có thể là: \"Làm quen với TypeScript: Tìm hiểu về các loại và đặc điểm của ngôn ngữ \t**Tiêu đề:** Những Mẹo Sử Dụng TypeScript Để Tối化 Kỹ Năng Cập Nhật Cập Nhật của Bạn\n",
      "\n",
      "**Nội dung:**\n",
      "\n",
      "\n",
      "*/\n"
     ]
    }
   ],
   "source": [
    "print(db.get_table_info(db.get_usable_table_names()))"
   ]
  },
  {
   "cell_type": "code",
   "execution_count": 8,
   "metadata": {},
   "outputs": [],
   "source": [
    "def standardize_query(query: str):\n",
    "    if \"SQLQuery: \" in query:\n",
    "        query = query.split(\"SQLQuery: \")[1]\n",
    "    elif \"```sql\" in query:\n",
    "        query = query.split(\"```sql\")[1].split(\"```\")[0].strip()\n",
    "    return query.split(\";\")[0]\n",
    "\n"
   ]
  },
  {
   "cell_type": "code",
   "execution_count": 9,
   "metadata": {},
   "outputs": [],
   "source": [
    "sql_chain = create_sql_query_chain(\n",
    "    llm=llm,\n",
    "    db=db\n",
    ")"
   ]
  },
  {
   "cell_type": "code",
   "execution_count": 26,
   "metadata": {},
   "outputs": [],
   "source": [
    "llm_chain = (\n",
    "    RunnablePassthrough.assign(\n",
    "        question = lambda x: x[\"question\"]\n",
    "    ).assign(\n",
    "        title = lambda x: llm.invoke(\"Tạo ra title từ question: {}\".format(x[\"question\"]))\n",
    "    ).assign(\n",
    "        content = lambda x: llm.invoke(\"Tạo content cho question: {}\".format(x[\"question\"]))\n",
    "    ).assign(\n",
    "        db_exec = lambda x: db.run('''INSERT INTO \"blog\" (\"title\", \"content\") VALUES ('{}', '{}')'''.format(\n",
    "            x[\"title\"].replace(\"'\", \"''\"),\n",
    "            x[\"content\"].replace(\"'\", \"''\"),\n",
    "        ))\n",
    "    )\n",
    ")"
   ]
  },
  {
   "cell_type": "code",
   "execution_count": 11,
   "metadata": {},
   "outputs": [],
   "source": [
    "cache = InMemoryCache()\n",
    "set_llm_cache(cache)"
   ]
  },
  {
   "cell_type": "code",
   "execution_count": 12,
   "metadata": {},
   "outputs": [],
   "source": [
    "generation_params = {\n",
    "    \"temperature\": 0.7,        # Điều chỉnh độ ngẫu nhiên (0-1)\n",
    "    \"top_k\": 10,              # Giới hạn từ vựng top K tokens\n",
    "    \"top_p\": 0.95,            # Ngưỡng nucleus sampling\n",
    "    \"num_ctx\": 2048,          # Kích thước cửa sổ ngữ cảnh\n",
    "    \"num_thread\": 1,          # Số luồng sử dụng\n",
    "    \"num_predict\": 200,       # Số tokens tối đa dự đoán\n",
    "    \"repeat_last_n\": 64,      # Số tokens cuối cùng xem xét lặp lại\n",
    "    \"repeat_penalty\": 1.15    # Hệ số phạt lặp lại\n",
    "}\n"
   ]
  },
  {
   "cell_type": "code",
   "execution_count": 27,
   "metadata": {},
   "outputs": [],
   "source": [
    "run_llm = (llm_chain.with_config({\n",
    "    **generation_params\n",
    "}).invoke({\n",
    "    \"question\": \"Thêm bài viết về Typescript\"\n",
    "}))\n",
    "\n"
   ]
  },
  {
   "cell_type": "code",
   "execution_count": 28,
   "metadata": {},
   "outputs": [
    {
     "name": "stdout",
     "output_type": "stream",
     "text": [
      "\n",
      "hello\n",
      "hello\n",
      "hello\n",
      "hello\n",
      "hello\n",
      "hello\n",
      "\n",
      "\n"
     ]
    }
   ],
   "source": [
    "print('''\n",
    "hello\n",
    "hello\n",
    "hello\n",
    "hello\n",
    "hello\n",
    "hello\n",
    "\n",
    "''')"
   ]
  }
 ],
 "metadata": {
  "kernelspec": {
   "display_name": "venv",
   "language": "python",
   "name": "python3"
  },
  "language_info": {
   "codemirror_mode": {
    "name": "ipython",
    "version": 3
   },
   "file_extension": ".py",
   "mimetype": "text/x-python",
   "name": "python",
   "nbconvert_exporter": "python",
   "pygments_lexer": "ipython3",
   "version": "3.11.9"
  }
 },
 "nbformat": 4,
 "nbformat_minor": 2
}
